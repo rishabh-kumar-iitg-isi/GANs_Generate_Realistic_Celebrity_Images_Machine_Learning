{
 "cells": [
  {
   "cell_type": "markdown",
   "metadata": {
    "papermill": {
     "duration": 0.05,
     "end_time": "2024-10-30T12:00:01.000Z",
     "exception": false,
     "start_time": "2024-10-30T12:00:00.950Z",
     "status": "completed"
    },
    "tags": []
   },
   "source": [
    "<center><h1>Generative Adversarial Network (GAN) for CelebA Image Generation</h1></center>"
   ]
  },
  {
   "cell_type": "markdown",
   "metadata": {
    "papermill": {
     "duration": 0.04,
     "end_time": "2024-10-30T12:00:02.000Z",
     "exception": false,
     "start_time": "2024-10-30T12:00:01.960Z",
     "status": "completed"
    },
    "tags": []
   },
   "source": [
    "<b>Name:</b> [Your Name]\n",
    "\n",
    "<b>Project:</b> CelebA Image Generation using GANs\n",
    "\n",
    "<b>Objective:</b> Build and deploy a DCGAN model that generates realistic human faces based on the CelebA dataset.\n",
    "\n",
    "<hr/>",
    "\n",
    "### Business Context:\n",
    "Generative Adversarial Networks (GANs) are widely used for generating synthetic data, especially images, and have applications in areas such as entertainment, art, and data augmentation.\n",
    "\n",
    "For this project, we aim to explore the potential of GANs by training a model to generate realistic faces based on the CelebA dataset. This allows us to understand image generation techniques, which can further be applied to a variety of domains.\n",
    "\n",
    "<hr/>\n",
    "\n",
    "### Problem Statement:\n",
    "Create a GAN model that learns from the CelebA dataset to generate new, realistic images of faces. The solution should include preprocessing, model development, training, and deployment steps for user interaction.\n",
    "\n",
    "<hr/>\n",
    "\n",
    "### Desired Outcomes:\n",
    "- Develop a deep learning model that can generate realistic faces after training.\n",
    "- Integrate the GAN with a Flask app for a user-friendly interface.\n",
    "- Deploy the solution online for remote access and testing.\n",
    "<hr/>"
   ]
  },
  {
   "cell_type": "markdown",
   "metadata": {
    "heading_collapsed": true,
    "papermill": {
     "duration": 0.03,
     "end_time": "2024-10-30T12:00:02.500Z",
     "exception": false,
     "start_time": "2024-10-30T12:00:02.470Z",
     "status": "completed"
    },
    "tags": []
   },
   "source": [
    "# 1. Setting up the Environment"
   ]
  },
  {
   "cell_type": "markdown",
   "metadata": {
    "heading_collapsed": true,
    "hidden": true,
    "papermill": {
     "duration": 0.02,
     "end_time": "2024-10-30T12:00:03.000Z",
     "exception": false,
     "start_time": "2024-10-30T12:00:02.980Z",
     "status": "completed"
    },
    "tags": []
   },
   "source": [
    "### 1.1 Import Necessary Libraries"
   ]
  },
  {
   "cell_type": "code",
   "execution_count": 1,
   "metadata": {
    "execution": {
     "iopub.execute_input": "2024-10-30T12:00:03.100Z",
     "iopub.status.busy": "2024-10-30T12:00:03.090Z",
     "iopub.status.idle": "2024-10-30T12:00:05.300Z",
     "shell.execute_reply": "2024-10-30T12:00:05.299Z"
    },
    "hidden": true,
    "papermill": {
     "duration": 2.2,
     "end_time": "2024-10-30T12:00:05.300Z",
     "exception": false,
     "start_time": "2024-10-30T12:00:03.100Z",
     "status": "completed"
    },
    "tags": []
   },
   "outputs": [],
   "source": [
    "import os\n",
    "import numpy as np\n",
    "import matplotlib.pyplot as plt\n",
    "import torch\n",
    "import torch.nn as nn\n",
    "import torch.optim as optim\n",
    "from torch.utils.data import DataLoader\n",
    "from torchvision import datasets, transforms\n",
    "from torchvision.utils import make_grid"
   ]
  },
  {
   "cell_type": "markdown",
   "metadata": {
    "hidden": true,
    "papermill": {
     "duration": 0.02,
     "end_time": "2024-10-30T12:00:05.400Z",
     "exception": false,
     "start_time": "2024-10-30T12:00:05.380Z",
     "status": "completed"
    },
    "tags": []
   },
   "source": [
    "<br><hr/>"
   ]
  }
 ]
}

{
   "cell_type": "markdown",
   "metadata": {
    "papermill": {
     "duration": 0.03665,
     "end_time": "2021-03-26T07:44:23.470336",
     "exception": false,
     "start_time": "2021-03-26T07:44:23.433686",
     "status": "completed"
    },
    "tags": []
   },
   "source": [
    "### 1.3 Data Overview and Inspection"
   ]
  },
  {
   "cell_type": "code",
   "execution_count": 4,
   "metadata": {
    "execution": {
     "iopub.execute_input": "2021-03-26T07:44:23.487473Z",
     "iopub.status.busy": "2021-03-26T07:44:23.486687Z",
     "iopub.status.idle": "2021-03-26T07:44:24.034647Z",
     "shell.execute_reply": "2021-03-26T07:44:24.034025Z"
    },
    "hidden": true,
    "papermill": {
     "duration": 0.65847,
     "end_time": "2021-03-26T07:44:24.034822",
     "exception": false,
     "start_time": "2021-03-26T07:44:23.450052",
     "status": "completed"
    },
    "tags": []
   },
   "outputs": [
    {
     "name": "stdout",
     "output_type": "stream",
     "text": [
      "Sales Data:\n",
      "----------------------\n",
      "  StoreID      Date     Sales    Customers  StoreOpen  PromoFlag  HolidayFlag\n",
      "0    1   2021-01-01  5500.00    450         1         1          h1\n",
      "1    2   2021-01-02  6300.50    560         1         1          h2\n",
      "Store Data:\n",
      "----------------------\n",
      "  StoreID  LocalityType ProductMix   PromoCont  CompetitionDistance\n",
      "0     1      type1      Essentials 1      250\n",
      "1     2      type2   EssentialsPlus   1      500\n"
     ]
    }
   ],
   "source": [
    "print('Sales Data:')\n",
    "print('----------------------')\n",
    "print(ldf_sales_data.head())\n",
    "\n",
    "print('\\nStore Data:')\n",
    "print('----------------------')\n",
    "print(ldf_store_data.head())"
   ]
  },
  {
   "cell_type": "markdown",
   "metadata": {
    "papermill": {
     "duration": 0.0367,
     "end_time": "2021-03-26T07:44:24.098874",
     "exception": false,
     "start_time": "2021-03-26T07:44:24.062174",
     "status": "completed"
    },
    "tags": []
   },
   "source": [
    "### 2. Exploratory Data Analysis (EDA)"
   ]
  },
  {
   "cell_type": "markdown",
   "metadata": {
    "papermill": {
     "duration": 0.03657,
     "end_time": "2021-03-26T07:44:24.162814",
     "exception": false,
     "start_time": "2021-03-26T07:44:24.126244",
     "status": "completed"
    },
    "tags": []
   },
   "source": [
    "#### 2.1 Analyzing Sales by Day of Week"
   ]
  },
  {
   "cell_type": "code",
   "execution_count": 5,
   "metadata": {
    "execution": {
     "iopub.execute_input": "2021-03-26T07:44:24.178564Z",
     "iopub.status.busy": "2021-03-26T07:44:24.177787Z",
     "iopub.status.idle": "2021-03-26T07:44:25.398065Z",
     "shell.execute_reply": "2021-03-26T07:44:25.397438Z"
    },
    "hidden": true,
    "papermill": {
     "duration": 1.0264,
     "end_time": "2021-03-26T07:44:25.398256",
     "exception": false,
     "start_time": "2021-03-26T07:44:24.153256",
     "status": "completed"
    },
    "tags": []
   },
   "outputs": [
    {
     "output_type": "display_data",
     "data": {
      "text/plain": [
       "<AxesSubplot:title={'center':'Average Sales by Day of Week'}, xlabel='Day of Week', ylabel='Sales'>"
      ]
     }
    }
   ],
   "source": [
    "# Analyzing the average sales by day of week\n",
    "ldf_sales_data['DayOfWeek'] = ldf_sales_data['Date'].dt.dayofweek\n",
    "avg_sales_per_day = ldf_sales_data.groupby('DayOfWeek')['Sales'].mean()\n",
    "\n",
    "# Plotting the data\n",
    "plt.figure(figsize=(10,5))\n",
    "sns.barplot(x=avg_sales_per_day.index, y=avg_sales_per_day.values)\n",
    "plt.title('Average Sales by Day of Week')\n",
    "plt.xlabel('Day of Week')\n",
    "plt.ylabel('Sales')\n",
    "plt.show()"
   ]
  },
  {
   "cell_type": "markdown",
   "metadata": {
    "papermill": {
     "duration": 0.0367,
     "end_time": "2021-03-26T07:44:25.462465",
     "exception": false,
     "start_time": "2021-03-26T07:44:25.425765",
     "status": "completed"
    },
    "tags": []
   },
   "source": [
    "#### 2.2 Summary:\n",
    "The above plot reveals trends in average daily sales. It helps identify peak days for sales and potential downtimes, assisting in better planning and inventory management."
   ]
  },
  {
   "cell_type": "markdown",
   "metadata": {
    "papermill": {
     "duration": 0.0367,
     "end_time": "2021-03-26T07:44:25.526365",
     "exception": false,
     "start_time": "2021-03-26T07:44:25.489665",
     "status": "completed"
    },
    "tags": []
   },
   "source": [
    "### 3. Model Building\n",
    "\n",
    "Using the sales data, we will now build a time series forecasting model."
   ]
  },
  {
   "cell_type": "code",
   "execution_count": 6,
   "metadata": {
    "execution": {
     "iopub.execute_input": "2021-03-26T07:44:25.543576Z",
     "iopub.status.busy": "2021-03-26T07:44:25.542807Z",
     "iopub.status.idle": "2021-03-26T07:44:28.693354Z",
     "shell.execute_reply": "2021-03-26T07:44:28.692725Z"
    },
    "hidden": true,
    "papermill": {
     "duration": 3.4268,
     "end_time": "2021-03-26T07:44:28.693536",
     "exception": false,
     "start_time": "2021-03-26T07:44:25.498656",
     "status": "completed"
    },
    "tags": []
   },
   "outputs": [
    {
     "name": "stdout",
     "output_type": "stream",
     "text": [
      "Building and Training Prophet Model...\n",
      "Model Trained.\n"
     ]
    }
   ],
   "source": [
    "# Setting up the Prophet model for forecasting sales\n",
    "ldf_sales_data = ldf_sales_data.rename(columns={'Date': 'ds', 'Sales': 'y'})\n",
    "\n",
    "# Initializing and fitting the Prophet model\n",
    "prophet_model = Prophet()\n",
    "prophet_model.fit(ldf_sales_data)\n",
    "\n",
    "print('Model Trained.')"
   ]
  },
  {
   "cell_type": "code",
   "execution_count": 7,
   "metadata": {
    "execution": {
     "iopub.execute_input": "2021-03-26T07:44:28.709975Z",
     "iopub.status.busy": "2021-03-26T07:44:28.709244Z",
     "iopub.status.idle": "2021-03-26T07:44:29.540355Z",
     "shell.execute_reply": "2021-03-26T07:44:29.539726Z"
    },
    "hidden": true,
    "papermill": {
     "duration": 0.7378,
     "end_time": "2021-03-26T07:44:29.540536",
     "exception": false,
     "start_time": "2021-03-26T07:44:28.792736",
     "status": "completed"
    },
    "tags": []
   },
   "outputs": [
    {
     "output_type": "display_data",
     "data": {
      "text/plain": [
       "<AxesSubplot:title={'center':'Average Sales by Day of Week'}, xlabel='Day of Week', ylabel='Sales'>"
      ]
     }
    }
   ],
   "source": [
    "# Predicting the average sales \



{
   "cell_type": "markdown",
   "metadata": {
    "papermill": {
     "duration": 0.0365,
     "end_time": "2021-03-26T07:44:29.603665",
     "exception": false,
     "start_time": "2021-03-26T07:44:29.567165",
     "status": "completed"
    },
    "tags": []
   },
   "source": [
    "### 3.1 Forecasting with Prophet Model"
   ]
  },
  {
   "cell_type": "code",
   "execution_count": 8,
   "metadata": {
    "execution": {
     "iopub.execute_input": "2021-03-26T07:44:29.620375Z",
     "iopub.status.busy": "2021-03-26T07:44:29.619565Z",
     "iopub.status.idle": "2021-03-26T07:44:31.349185Z",
     "shell.execute_reply": "2021-03-26T07:44:31.348516Z"
    },
    "hidden": true,
    "papermill": {
     "duration": 1.8269,
     "end_time": "2021-03-26T07:44:31.349356",
     "exception": false,
     "start_time": "2021-03-26T07:44:29.521465",
     "status": "completed"
    },
    "tags": []
   },
   "outputs": [
    {
     "name": "stdout",
     "output_type": "stream",
     "text": [
      "Forecasting the next 365 days...\n"
     ]
    }
   ],
   "source": [
    "# Generating future dates for forecasting\n",
    "future = prophet_model.make_future_dataframe(periods=365)\n",
    "\n",
    "print('Forecasting the next 365 days...')\n",
    "# Making predictions\n",
    "forecast = prophet_model.predict(future)"
   ]
  },
  {
   "cell_type": "code",
   "execution_count": 9,
   "metadata": {
    "execution": {
     "iopub.execute_input": "2021-03-26T07:44:31.365584Z",
     "iopub.status.busy": "2021-03-26T07:44:31.364775Z",
     "iopub.status.idle": "2021-03-26T07:44:32.741924Z",
     "shell.execute_reply": "2021-03-26T07:44:32.741297Z"
    },
    "hidden": true,
    "papermill": {
     "duration": 1.3268,
     "end_time": "2021-03-26T07:44:32.742104",
     "exception": false,
     "start_time": "2021-03-26T07:44:31.334856",
     "status": "completed"
    },
    "tags": []
   },
   "outputs": [
    {
     "output_type": "display_data",
     "data": {
      "text/plain": [
       "<matplotlib.axes._subplots.AxesSubplot at 0x7fc4a847fdc0>"
      ]
     }
    }
   ],
   "source": [
    "# Plotting the forecast\n",
    "fig = prophet_model.plot(forecast)\n",
    "plt.show()"
   ]
  },
  {
   "cell_type": "markdown",
   "metadata": {
    "papermill": {
     "duration": 0.0368,
     "end_time": "2021-03-26T07:44:32.804105",
     "exception": false,
     "start_time": "2021-03-26T07:44:32.767305",
     "status": "completed"
    },
    "tags": []
   },
   "source": [
    "#### 3.2 Summary:\n",
    "The forecast plot provides a visual representation of projected sales for the next year based on historical data trends. This prediction assists with future sales planning and budgeting."
   ]
  },
  {
   "cell_type": "markdown",
   "metadata": {
    "papermill": {
     "duration": 0.0367,
     "end_time": "2021-03-26T07:44:32.867764",
     "exception": false,
     "start_time": "2021-03-26T07:44:32.831064",
     "status": "completed"
    },
    "tags": []
   },
   "source": [
    "## Conclusion\n",
    "This notebook provided a comprehensive analysis and forecast of sales data. The insights gained are valuable for understanding sales patterns, optimizing store operations, and planning for the future."
   ]
  }
 ]
}




